{
 "cells": [
  {
   "cell_type": "markdown",
   "metadata": {},
   "source": [
    "# 🌲 Trees\n",
    "\n",
    "A tree data structure is a hierarchical model used to organize data in a way that resembles a tree, consisting of nodes connected by edges. Each tree has a root node at the top, which branches out to child nodes, forming a parent-child relationship. Nodes can have zero or more children, and the structure allows for efficient data retrieval, insertion, and deletion. Trees are commonly used in computer science for various applications, such as representing hierarchical data (like file systems), facilitating search operations (like binary search trees), and managing sorted data (like AVL trees).\n",
    "\n",
    "## Terminology\n",
    "\n",
    "- **root** - the most parent node. The First. Adam.\n",
    "- **height** - The longest path from the root to the most child node binary tree - a tree in which has at most 2 children, at least 0 - **children general tree** - a tree with 0 or more children\n",
    "- **binary search tree** - a tree in which has a specific ordering to the nodes and at most 2 children leaves - a node without children\n",
    "- **balanced** - A tree is perfectly balanced when any node's left and right children have the same height.\n",
    "- **branching factor** - the amount of children a tree has.\n",
    "\n"
   ]
  },
  {
   "cell_type": "code",
   "execution_count": 6,
   "metadata": {},
   "outputs": [],
   "source": [
    "from typing import List, Optional\n",
    "\n",
    "class BinaryNode[int]():\n",
    "    value: int = None\n",
    "    left: \"BinaryNode\" = None\n",
    "    right: \"BinaryNode\" = None\n",
    "\n",
    "    def __init__(self, value: int):\n",
    "        self.value = value\n",
    "\n",
    "# tree\n",
    "root = BinaryNode(20)\n",
    "root.right = BinaryNode(50)\n",
    "root.left = BinaryNode(10)\n",
    "root.right.right = BinaryNode(100)\n",
    "root.right.left = BinaryNode(30)\n",
    "root.right.left.left = BinaryNode(29)\n",
    "root.right.left.right = BinaryNode(45)\n",
    "\n",
    "root.left.right = BinaryNode(15)\n",
    "root.left.left = BinaryNode(5)\n",
    "root.left.left.right = BinaryNode(7)"
   ]
  },
  {
   "cell_type": "markdown",
   "metadata": {},
   "source": [
    "## Pre Order Search"
   ]
  },
  {
   "cell_type": "code",
   "execution_count": 8,
   "metadata": {},
   "outputs": [],
   "source": [
    "def pre_order_walk(current: Optional[BinaryNode], path: List[int]) -> List[int]:\n",
    "    if not current:\n",
    "        return path\n",
    "\n",
    "    # pre\n",
    "    path.append(current.value)\n",
    "\n",
    "    # recurse\n",
    "    pre_order_walk(current.left, path)\n",
    "    pre_order_walk(current.right, path)\n",
    "\n",
    "    # post\n",
    "    return path\n",
    "\n",
    "def pre_order_search(head: BinaryNode) -> List[int]:\n",
    "    return pre_order_walk(head, [])\n",
    "\n",
    "assert pre_order_search(root) == [\n",
    "    20,\n",
    "    10,\n",
    "    5,\n",
    "    7,\n",
    "    15,\n",
    "    50,\n",
    "    30,\n",
    "    29,\n",
    "    45,\n",
    "    100,\n",
    "]"
   ]
  },
  {
   "cell_type": "markdown",
   "metadata": {},
   "source": [
    "## In Order Search"
   ]
  },
  {
   "cell_type": "code",
   "execution_count": 9,
   "metadata": {},
   "outputs": [],
   "source": [
    "def in_order_walk(current: Optional[BinaryNode], path: List[int]) -> List[int]:\n",
    "    if not current:\n",
    "        return path\n",
    "\n",
    "    # pre\n",
    "\n",
    "    # recurse\n",
    "    in_order_walk(current.left, path)\n",
    "    path.append(current.value)\n",
    "    in_order_walk(current.right, path)\n",
    "\n",
    "    # post\n",
    "    return path\n",
    "\n",
    "def in_order_search(head: BinaryNode) -> List[int]:\n",
    "    return in_order_walk(head, [])\n",
    "\n",
    "assert in_order_search(root) == [\n",
    "    5,\n",
    "    7,\n",
    "    10,\n",
    "    15,\n",
    "    20,\n",
    "    29,\n",
    "    30,\n",
    "    45,\n",
    "    50,\n",
    "    100,\n",
    "]"
   ]
  },
  {
   "cell_type": "markdown",
   "metadata": {},
   "source": [
    "## Post Order Search"
   ]
  },
  {
   "cell_type": "code",
   "execution_count": 11,
   "metadata": {},
   "outputs": [],
   "source": [
    "def post_order_walk(current: Optional[BinaryNode], path: List[int]) -> List[int]:\n",
    "    if not current:\n",
    "        return path\n",
    "\n",
    "    # pre\n",
    "\n",
    "    # recurse\n",
    "    post_order_walk(current.left, path)\n",
    "    post_order_walk(current.right, path)\n",
    "\n",
    "    # post\n",
    "    path.append(current.value)\n",
    "    return path\n",
    "\n",
    "def post_order_search(head: BinaryNode) -> List[int]:\n",
    "    return post_order_walk(head, [])\n",
    "\n",
    "assert post_order_search(root) == [\n",
    "    7,\n",
    "    5,\n",
    "    15,\n",
    "    10,\n",
    "    29,\n",
    "    45,\n",
    "    30,\n",
    "    100,\n",
    "    50,\n",
    "    20,\n",
    "]"
   ]
  },
  {
   "cell_type": "markdown",
   "metadata": {},
   "source": [
    "The above search algorithms are known as **Depth First Search (DFS)**.\n",
    "\n",
    "**Depth First Search (DFS)** is an algorithm used for traversing or searching through data structures like trees and graphs. It starts at a selected node (the root in trees) and explores as far as possible along each branch before backtracking. This means it goes deep into one path until it can no longer continue, then it backtracks to explore other paths. DFS can be implemented using a stack data structure or through recursion. It is useful for tasks such as path-finding, solving puzzles, and exploring networks."
   ]
  },
  {
   "cell_type": "markdown",
   "metadata": {},
   "source": [
    "# Breadth-First Search (BFS)\n",
    "\n",
    "Breadth-First Search (BFS) is an algorithm used for traversing or searching through data structures, particularly graphs and trees. It explores all the neighbor nodes at the present depth level before moving on to nodes at the next depth level. BFS uses a **queue data structure** to keep track of nodes that need to be explored. This approach ensures that the shortest path in terms of the number of edges is found in unweighted graphs. BFS is commonly used in various applications, including finding the shortest path in navigation systems, web crawling, and network broadcasting."
   ]
  },
  {
   "cell_type": "code",
   "execution_count": 12,
   "metadata": {},
   "outputs": [],
   "source": [
    "from queue import Queue\n",
    "\n",
    "def bfs(head: BinaryNode, needle: int) -> bool:\n",
    "    queue = Queue()\n",
    "\n",
    "    queue.put(head)\n",
    "\n",
    "    while not queue.empty():\n",
    "        current: BinaryNode = queue.get()\n",
    "\n",
    "        if current.value == needle:\n",
    "            return True\n",
    "        \n",
    "        if current.left:\n",
    "            queue.put(current.left)\n",
    "\n",
    "        if current.right:\n",
    "            queue.put(current.right)\n",
    "\n",
    "    return False\n",
    "\n",
    "\n",
    "assert bfs(root, 45) is True\n",
    "assert bfs(root, 7) is True\n",
    "assert bfs(root, 69) is False"
   ]
  },
  {
   "cell_type": "markdown",
   "metadata": {},
   "source": [
    "**Depth First Search (DFS) preserves tree shape while Breadth-First Search (BFS) does not.**\n",
    "\n",
    "Depth First Search (DFS) maintains the hierarchical structure of a tree when traversing it, exploring as far down a branch as possible before backtracking. In contrast, Breadth-First Search (BFS) explores all nodes at the present depth level before moving on to nodes at the next depth level, which can lead to a different order of node visitation that does not necessarily reflect the tree's structure."
   ]
  },
  {
   "cell_type": "markdown",
   "metadata": {},
   "source": [
    "### Comparing Two Trees\n",
    "\n",
    "The below compares two tree to find out if they are equal in values, size and shape."
   ]
  },
  {
   "cell_type": "code",
   "execution_count": 16,
   "metadata": {},
   "outputs": [],
   "source": [
    "def compare(a: BinaryNode | None, b: BinaryNode | None) -> bool:\n",
    "    # structural check\n",
    "    if a is None and b is None:\n",
    "        return True\n",
    "    \n",
    "    # structural check\n",
    "    if a is None or b is None:\n",
    "        return False\n",
    "    \n",
    "    # value check\n",
    "    if (a.value != b.value):\n",
    "        return False\n",
    "    \n",
    "    return compare(a.left, b.left) and compare(a.right, b.right)\n",
    "\n",
    "\n",
    "another_root = BinaryNode(20)\n",
    "another_root.right = BinaryNode(50)\n",
    "another_root.left = BinaryNode(10)\n",
    "another_root.right.right = BinaryNode(100)\n",
    "another_root.right.left = BinaryNode(30)\n",
    "another_root.right.left.left = BinaryNode(29)\n",
    "another_root.right.left.right = BinaryNode(45)\n",
    "\n",
    "assert compare(root, root) is True\n",
    "assert compare(root, another_root) is False"
   ]
  },
  {
   "cell_type": "markdown",
   "metadata": {},
   "source": [
    "## Binary Search Tree (BST)\n",
    "\n",
    "A Binary Search Tree (BST) is a data structure that organizes data in a hierarchical manner, allowing for efficient searching, insertion, and deletion operations. In a BST, each node contains a value, and it has at most two children: the left child contains values less than the node's value, while the right child contains values greater than the node's value. This property enables quick lookups, typically in `O(log n)` time, where n is the number of nodes in the tree, assuming the tree is balanced. BSTs are commonly used in various applications, including databases and memory management.\n",
    "\n"
   ]
  },
  {
   "cell_type": "code",
   "execution_count": 18,
   "metadata": {},
   "outputs": [],
   "source": [
    "def bst_search(current: BinaryNode | None, needle: int) -> bool:\n",
    "    if not current:\n",
    "        return False\n",
    "    \n",
    "    if current.value == needle:\n",
    "        return True\n",
    "    \n",
    "    if current.value < needle:\n",
    "        return bst_search(current.right, needle)\n",
    "    return bst_search(current.left, needle)\n",
    "\n",
    "def dfs_bst(head: BinaryNode, needle: int) -> bool:\n",
    "    return bst_search(head, needle)\n",
    "\n",
    "assert dfs_bst(root, 45) is True\n",
    "assert dfs_bst(root, 65) is False"
   ]
  },
  {
   "cell_type": "code",
   "execution_count": null,
   "metadata": {},
   "outputs": [],
   "source": []
  }
 ],
 "metadata": {
  "kernelspec": {
   "display_name": ".venv",
   "language": "python",
   "name": "python3"
  },
  "language_info": {
   "codemirror_mode": {
    "name": "ipython",
    "version": 3
   },
   "file_extension": ".py",
   "mimetype": "text/x-python",
   "name": "python",
   "nbconvert_exporter": "python",
   "pygments_lexer": "ipython3",
   "version": "3.13.0"
  }
 },
 "nbformat": 4,
 "nbformat_minor": 2
}
