{
 "cells": [
  {
   "cell_type": "markdown",
   "metadata": {},
   "source": [
    "# Recursion\n",
    "\n",
    "Recursion is a programming and mathematical concept where a function **calls itself** in order to solve a problem. It typically involves breaking down a complex problem into simpler sub-problems of the same type. Each recursive call processes a smaller portion of the problem until it reaches **a base case**, which is a condition that stops the recursion. This technique is commonly used in algorithms for tasks such as sorting, searching, and traversing data structures like trees.\n",
    "\n",
    "Use recursion when there is no clear way of using for loop.\n",
    "\n",
    "The function consists of three parts:\n",
    " 1. *pre*\n",
    " 2. *recursive part*\n",
    " 3. *post*"
   ]
  },
  {
   "cell_type": "code",
   "execution_count": 6,
   "metadata": {},
   "outputs": [
    {
     "name": "stdout",
     "output_type": "stream",
     "text": [
      "Pre: 4\n",
      "Pre: 3\n",
      "Pre: 2\n",
      "Post: 2\n",
      "Post: 3\n",
      "Post: 4\n"
     ]
    },
    {
     "data": {
      "text/plain": [
       "10"
      ]
     },
     "execution_count": 6,
     "metadata": {},
     "output_type": "execute_result"
    }
   ],
   "source": [
    "def sum_all(number: int) -> int :\n",
    "    # base case\n",
    "    if number == 1:\n",
    "        return 1\n",
    "\n",
    "    # pre recursion\n",
    "    print(f\"Pre: {number}\")\n",
    "    out = number + sum_all(number - 1)\n",
    "\n",
    "    # post recursion\n",
    "    print(f\"Post: {number}\")\n",
    "    return out\n",
    "\n",
    "sum_all(4)"
   ]
  },
  {
   "cell_type": "markdown",
   "metadata": {},
   "source": [
    "## Path Finding: Base Case\n",
    "\n",
    "Recursive solution to find path in a maze.\n",
    "\n",
    "Base cases:\n",
    "\n",
    " 1. It's a wall\n",
    " 2. off the map\n",
    " 3. its the end\n",
    " 4. it we have seen it"
   ]
  },
  {
   "cell_type": "code",
   "execution_count": 20,
   "metadata": {},
   "outputs": [
    {
     "name": "stdout",
     "output_type": "stream",
     "text": [
      "####################\u001b[42m*\u001b[49m#\n",
      "##  \u001b[42m*\u001b[49m\u001b[42m*\u001b[49m\u001b[42m*\u001b[49m\u001b[42m*\u001b[49m# \u001b[42m*\u001b[49m\u001b[42m*\u001b[49m\u001b[42m*\u001b[49m\u001b[42m*\u001b[49m##   #\u001b[42m*\u001b[49m#\n",
      "## #\u001b[42m*\u001b[49m##\u001b[42m*\u001b[49m #\u001b[42m*\u001b[49m##\u001b[42m*\u001b[49m\u001b[42m*\u001b[49m\u001b[42m*\u001b[49m# # \u001b[42m*\u001b[49m#\n",
      "# ##\u001b[42m*\u001b[49m#\u001b[42m*\u001b[49m\u001b[42m*\u001b[49m##\u001b[42m*\u001b[49m # #\u001b[42m*\u001b[49m\u001b[42m*\u001b[49m ##\u001b[42m*\u001b[49m#\n",
      "# #\u001b[42m*\u001b[49m\u001b[42m*\u001b[49m#\u001b[42m*\u001b[49m\u001b[42m*\u001b[49m\u001b[42m*\u001b[49m\u001b[42m*\u001b[49m\u001b[42m*\u001b[49m## # \u001b[42m*\u001b[49m#  \u001b[42m*\u001b[49m#\n",
      "##\u001b[42m*\u001b[49m\u001b[42m*\u001b[49m##  # ##  ##\u001b[42m*\u001b[49m###\u001b[42m*\u001b[49m#\n",
      "#\u001b[42m*\u001b[49m\u001b[42m*\u001b[49m# # ##    ##\u001b[42m*\u001b[49m\u001b[42m*\u001b[49m#\u001b[42m*\u001b[49m\u001b[42m*\u001b[49m\u001b[42m*\u001b[49m#\n",
      "#\u001b[42m*\u001b[49m##   #    #  \u001b[42m*\u001b[49m\u001b[42m*\u001b[49m\u001b[42m*\u001b[49m\u001b[42m*\u001b[49m# #\n",
      "#\u001b[42m*\u001b[49m####################\n"
     ]
    }
   ],
   "source": [
    "from typing import List, Tuple\n",
    "\n",
    "directions = [\n",
    "    (-1, 0),\n",
    "    (1, 0),\n",
    "    (0, -1),\n",
    "    (0, 1),\n",
    "]\n",
    "\n",
    "def walk(maze: List[str], wall: str, current: Tuple[int, int], end: Tuple[int, int], seen: List[List[bool]], path: List[Tuple[int, int]]) -> bool:\n",
    "    cx, cy = current\n",
    "\n",
    "    # base cases\n",
    "    if cx < 0 or cx >= len(maze[0]) or cy < 0 or cy >= len(maze):\n",
    "        return False\n",
    "    \n",
    "    if maze[cy][cx] == wall:\n",
    "        return False\n",
    "    \n",
    "    if current == end:\n",
    "        path.append(end)\n",
    "        return True\n",
    "    \n",
    "    if seen[cy][cx]:\n",
    "        return False\n",
    "    \n",
    "    # pre\n",
    "    seen[cy][cx] = True\n",
    "    path.append(current)\n",
    "    \n",
    "    # recursive\n",
    "    for dx, dy in directions:\n",
    "        if walk(maze, wall, (cx+dx, cy+dy), end, seen, path):\n",
    "            return True\n",
    "\n",
    "    # post\n",
    "    # remove path if dead-end\n",
    "    path.pop()\n",
    "\n",
    "    return False\n",
    "\n",
    "\n",
    "def solve(maze: List[str], wall: str, start: Tuple[int, int], end: Tuple[int, int]) -> List[Tuple[int,int]]:\n",
    "    seen = []\n",
    "    path = []\n",
    "\n",
    "    for _ in range(len(maze)):\n",
    "        seen.append([False] * len(maze[0]))\n",
    "\n",
    "    walk(maze, wall, start, end, seen, path)\n",
    "\n",
    "    return path\n",
    "\n",
    "maze = \"\"\"\n",
    "####################E#\n",
    "##      #     ##   # #\n",
    "## # ##  # ##   # #  #\n",
    "# ## #  ##  # #   ## #\n",
    "# #  #     ## #  #   #\n",
    "##  ##  # ##  ## ### #\n",
    "#  # # ##    ##  #   #\n",
    "# ##   #    #      # #\n",
    "#S####################\n",
    "\"\"\".strip()\n",
    "\n",
    "maze = [list(line) for line in maze.split(\"\\n\")]\n",
    "\n",
    "path = solve(maze, wall=\"#\", start=(1, 8), end=(20, 0))\n",
    "\n",
    "for x, y in path:\n",
    "    maze[y][x] =  \"\\033[42m\" + \"*\" + \"\\033[49m\"\n",
    "\n",
    "print(\"\\n\".join([\"\".join(line) for line in maze]))\n",
    "\n"
   ]
  }
 ],
 "metadata": {
  "kernelspec": {
   "display_name": ".venv",
   "language": "python",
   "name": "python3"
  },
  "language_info": {
   "codemirror_mode": {
    "name": "ipython",
    "version": 3
   },
   "file_extension": ".py",
   "mimetype": "text/x-python",
   "name": "python",
   "nbconvert_exporter": "python",
   "pygments_lexer": "ipython3",
   "version": "3.13.0"
  }
 },
 "nbformat": 4,
 "nbformat_minor": 2
}
