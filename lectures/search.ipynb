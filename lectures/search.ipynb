{
 "cells": [
  {
   "cell_type": "markdown",
   "metadata": {},
   "source": [
    "# Search"
   ]
  },
  {
   "cell_type": "markdown",
   "metadata": {},
   "source": [
    "## Linear Search\n",
    "\n",
    "Linear search is a straightforward algorithm used to find a specific value within a list or array. It works by sequentially checking each element in the data structure until the desired value is found or the end of the list is reached. This method is simple and easy to implement but can be inefficient for large datasets, as it has a time complexity of `O(n)`, meaning the time taken increases linearly with the number of elements."
   ]
  },
  {
   "cell_type": "code",
   "execution_count": 34,
   "metadata": {},
   "outputs": [],
   "source": [
    "from typing import List\n",
    "\n",
    "def linear_search(haystack: List[int], needle: int) -> bool :\n",
    "    for number in haystack:\n",
    "        if needle == number:\n",
    "            return True\n",
    "    return False\n",
    "\n",
    "assert linear_search([1,2,3], 2) == True\n",
    "assert linear_search([1,2,3,6,7,8], 5) == False"
   ]
  },
  {
   "cell_type": "markdown",
   "metadata": {},
   "source": [
    "## Binary Search\n",
    "\n",
    "The Binary Search Algorithm is an efficient method for finding a specific element in a **sorted array or list**. It works by repeatedly dividing the search interval in half. It has a time complexity of `O(log n)`, making it much faster than a linear search (O(n)) for large datasets, provided the data **is sorted**."
   ]
  },
  {
   "cell_type": "code",
   "execution_count": 36,
   "metadata": {},
   "outputs": [],
   "source": [
    "import math\n",
    "\n",
    "def bs_search(haystack: List[int], needle: int) -> bool:\n",
    "    low = 0\n",
    "    high = len(haystack)\n",
    "\n",
    "    while low < high:\n",
    "        middle = math.floor(low + (high - low) / 2)\n",
    "\n",
    "        value = haystack[middle]\n",
    "\n",
    "        if value == needle:\n",
    "            return True\n",
    "        \n",
    "        if needle < value:\n",
    "            high = middle\n",
    "        else:\n",
    "            low = middle+1\n",
    "\n",
    "    return False\n",
    "\n",
    "\n",
    "assert bs_search([1,2,3,5,6,8,9], 8) == True\n",
    "assert bs_search([1,2,3,5,6,8,9], 11) == False"
   ]
  },
  {
   "cell_type": "markdown",
   "metadata": {},
   "source": [
    "## The Two Crystal Ball Problem\n",
    "\n",
    "Given two crystal balls that will break if dropped from high enough distance, determine the exact spot in which it will break in the most optimized way."
   ]
  },
  {
   "cell_type": "code",
   "execution_count": 37,
   "metadata": {},
   "outputs": [],
   "source": [
    "import random\n",
    "\n",
    "def two_crystal_balls(breaks: List[bool]) -> int:\n",
    "    jump_amount = math.floor(math.sqrt(len(breaks)))\n",
    "\n",
    "    i = jump_amount\n",
    "\n",
    "    while i < len(breaks):\n",
    "        if breaks[i]:\n",
    "            break\n",
    "        i += jump_amount\n",
    "\n",
    "    i -= jump_amount\n",
    "\n",
    "    for _ in range(0, jump_amount):\n",
    "        if breaks[i]:\n",
    "            return i\n",
    "        i += 1\n",
    "    \n",
    "    return -1\n",
    "    \n",
    "\n",
    "idx = math.floor(random.randint(0, 999))\n",
    "data = [False] * 1000\n",
    "\n",
    "for i in range(idx, len(data)):\n",
    "    data[i] = True\n",
    "\n",
    "\n",
    "assert two_crystal_balls(data) == idx\n",
    "assert two_crystal_balls(([False] * 100)) == -1"
   ]
  }
 ],
 "metadata": {
  "kernelspec": {
   "display_name": ".venv",
   "language": "python",
   "name": "python3"
  },
  "language_info": {
   "codemirror_mode": {
    "name": "ipython",
    "version": 3
   },
   "file_extension": ".py",
   "mimetype": "text/x-python",
   "name": "python",
   "nbconvert_exporter": "python",
   "pygments_lexer": "ipython3",
   "version": "3.13.0"
  }
 },
 "nbformat": 4,
 "nbformat_minor": 2
}
