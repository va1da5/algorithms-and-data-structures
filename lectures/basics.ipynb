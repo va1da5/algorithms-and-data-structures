{
 "cells": [
  {
   "cell_type": "markdown",
   "metadata": {},
   "source": [
    "# Basics"
   ]
  },
  {
   "cell_type": "markdown",
   "metadata": {},
   "source": [
    "## Big O\n",
    "\n",
    "Big O notation is a mathematical concept used in computer science to describe the performance or complexity of an algorithm. Specifically, it characterizes the time or space complexity in terms of the size of the input data. It provides an upper bound on the growth rate of an algorithm's running time or space requirements, allowing for comparisons between different algorithms.\n",
    "\n",
    "**Big O, said differently:** As your input grows, how fast does computation or memory grow?\n",
    "\n",
    "**Key Points:**\n",
    "\n",
    "- **Time Complexity**: How the runtime of an algorithm increases with the size of the input.\n",
    "- **Space Complexity**: How the memory usage of an algorithm increases with the size of the input.\n",
    "- **Common Big O Notations**:\n",
    "    - `O(1)`: Constant time\n",
    "    - `O(log n)`: Logarithmic time\n",
    "    - `O(n)`: Linear time (*loops*)\n",
    "    - `O(n log n)`: Linearithmic time\n",
    "    - `O(n^2)`: Quadratic time (*nested loops*)\n",
    "    - `O(2^n)`: Exponential time\n",
    "    - `O(n!)`: Factorial time\n",
    "\n",
    "**Big O** notation helps in analyzing algorithms and making decisions about which algorithm to use based on efficiency.\n",
    "\n",
    "![big o complexity](./imgs/big-o-complexiity.svg)\n",
    "\n",
    "### References\n",
    "\n",
    "- [Big-O Cheat Sheet](https://www.bigocheatsheet.com/)"
   ]
  },
  {
   "cell_type": "markdown",
   "metadata": {},
   "source": [
    "## Rule of Three\n",
    "\n",
    "\n",
    "The \"Rule of Three\" by Martin Fowler is a principle in software development that suggests that when you encounter a problem or a piece of code for the first time, you should implement it straightforwardly. If you need to implement it a second time, you should consider refactoring it for better structure. By the third implementation, you should have enough understanding of the problem to create a robust, reusable solution. This rule emphasizes the importance of **not over-engineering solutions prematurely** and allows for iterative improvement based on experience and understanding gained from repeated exposure to the problem."
   ]
  },
  {
   "cell_type": "markdown",
   "metadata": {},
   "source": []
  }
 ],
 "metadata": {
  "kernelspec": {
   "display_name": ".venv",
   "language": "python",
   "name": "python3"
  },
  "language_info": {
   "codemirror_mode": {
    "name": "ipython",
    "version": 3
   },
   "file_extension": ".py",
   "mimetype": "text/x-python",
   "name": "python",
   "nbconvert_exporter": "python",
   "pygments_lexer": "ipython3",
   "version": "3.13.0"
  }
 },
 "nbformat": 4,
 "nbformat_minor": 2
}
